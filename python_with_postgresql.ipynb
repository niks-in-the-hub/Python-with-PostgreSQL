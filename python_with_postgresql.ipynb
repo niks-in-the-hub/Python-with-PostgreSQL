{
 "cells": [
  {
   "cell_type": "code",
   "execution_count": 1,
   "metadata": {},
   "outputs": [
    {
     "name": "stdout",
     "output_type": "stream",
     "text": [
      "Requirement already satisfied: psycopg2 in c:\\users\\nikkitha\\anaconda3\\lib\\site-packages (2.8.3)\n"
     ]
    }
   ],
   "source": [
    "! pip install psycopg2"
   ]
  },
  {
   "cell_type": "code",
   "execution_count": 2,
   "metadata": {},
   "outputs": [
    {
     "name": "stdout",
     "output_type": "stream",
     "text": [
      "{'user': 'postgres', 'dbname': 'testdb', 'host': '127.0.0.1', 'port': '5432', 'tty': '', 'options': '', 'sslmode': 'prefer', 'sslcompression': '0', 'krbsrvname': 'postgres', 'target_session_attrs': 'any'} \n",
      "\n",
      "You are connected to -  ('PostgreSQL 11.4, compiled by Visual C++ build 1914, 64-bit',) \n",
      "\n",
      "PostgreSQL connection is closed\n"
     ]
    }
   ],
   "source": [
    "import psycopg2\n",
    "try:\n",
    "    connection = psycopg2.connect(user=\"postgres\",\n",
    "                                 password = \"nikkitha\",\n",
    "                                 host=\"127.0.0.1\",\n",
    "                                 port=\"5432\",\n",
    "                                 database=\"testdb\")\n",
    "    cursor=connection.cursor()\n",
    "    #Print postgresql connection properties\n",
    "    print(connection.get_dsn_parameters(),\"\\n\")\n",
    "    \n",
    "    #Print postgresql version\n",
    "    cursor.execute(\"SELECT version();\")\n",
    "    record = cursor.fetchone()\n",
    "    print(\"You are connected to - \",record,\"\\n\")\n",
    "    \n",
    "except (Exception, psycopg2.Error) as error:\n",
    "    print(\"Error while connecting to PostgreSQL\", error)\n",
    "\n",
    "finally:\n",
    "    #Closing database connection\n",
    "    if(connection):\n",
    "        cursor.close()\n",
    "        connection.close()\n",
    "        print(\"PostgreSQL connection is closed\")"
   ]
  },
  {
   "cell_type": "code",
   "execution_count": null,
   "metadata": {},
   "outputs": [],
   "source": []
  },
  {
   "cell_type": "code",
   "execution_count": 3,
   "metadata": {},
   "outputs": [
    {
     "name": "stdout",
     "output_type": "stream",
     "text": [
      "Table created successfully in PostgreSQL\n",
      "PostgreSQL connection is closed\n"
     ]
    }
   ],
   "source": [
    "import psycopg2\n",
    "from psycopg2 import Error\n",
    "try:\n",
    "    connection = psycopg2.connect(user=\"postgres\",\n",
    "                                 password=\"nikkitha\",\n",
    "                                 host=\"127.0.0.1\",\n",
    "                                 port=\"5432\",\n",
    "                                 database=\"testdb\")\n",
    "    \n",
    "    cursor= connection.cursor()\n",
    "\n",
    "    create_table_query = '''CREATE TABLE employee\n",
    "    (ID INT PRIMARY KEY NOT NULL,\n",
    "    NAME TEXT NOT NULL,\n",
    "    SALARY REAL);'''\n",
    "    \n",
    "    cursor.execute(create_table_query)\n",
    "    connection.commit()  #we are committing our changes to the database using the commit() method\n",
    "    print(\"Table created successfully in PostgreSQL\")\n",
    "    \n",
    "except (Exception, psycopg2.DatabaseError) as error:\n",
    "    print(\"Error while creating PostgreSQL table\", error)\n",
    "\n",
    "finally:\n",
    "    #closing database connection\n",
    "    if(connection):\n",
    "        cursor.close()\n",
    "        connection.close()\n",
    "        print(\"PostgreSQL connection is closed\")"
   ]
  },
  {
   "cell_type": "code",
   "execution_count": null,
   "metadata": {},
   "outputs": [],
   "source": []
  },
  {
   "cell_type": "code",
   "execution_count": 4,
   "metadata": {},
   "outputs": [
    {
     "name": "stdout",
     "output_type": "stream",
     "text": [
      "1 columns inserted successfully\n",
      "Connection closed\n"
     ]
    }
   ],
   "source": [
    "try:\n",
    "    connection = psycopg2.connect(user=\"postgres\",\n",
    "                                 password=\"nikkitha\",\n",
    "                                 host=\"127.0.0.1\",\n",
    "                                 port=\"5432\",\n",
    "                                 database=\"testdb\")\n",
    "    cursor=connection.cursor()\n",
    "    \n",
    "    postgres_insert_query=\"\"\"INSERT INTO employee (ID, NAME, SALARY) VALUES (%s,%s,%s)\"\"\"\n",
    "    record_to_insert=(1,'Andy',100000)\n",
    "    cursor.execute(postgres_insert_query, record_to_insert)\n",
    "    connection.commit()\n",
    "    count=cursor.rowcount\n",
    "    print(count, \"columns inserted successfully\")\n",
    "    \n",
    "except(Exception, psycopg2.Error)as error:\n",
    "    if(connection):\n",
    "        print(\"failed to insert\",error)\n",
    "    \n",
    "finally:\n",
    "    if(connection):\n",
    "        cursor.close()\n",
    "        connection.close()\n",
    "        print(\"Connection closed\")"
   ]
  },
  {
   "cell_type": "markdown",
   "metadata": {},
   "source": [
    "Updated the values individually -- (2,'Dwight',150000), (3,'Jim',145000), (4,'Kevin',120000), (5,'Erin', 110000)"
   ]
  },
  {
   "cell_type": "code",
   "execution_count": 8,
   "metadata": {},
   "outputs": [
    {
     "name": "stdout",
     "output_type": "stream",
     "text": [
      "1 columns inserted successfully\n",
      "Connection closed\n"
     ]
    }
   ],
   "source": [
    "try:\n",
    "    connection = psycopg2.connect(user=\"postgres\",\n",
    "                                 password=\"nikkitha\",\n",
    "                                 host=\"127.0.0.1\",\n",
    "                                 port=\"5432\",\n",
    "                                 database=\"testdb\")\n",
    "    cursor=connection.cursor()\n",
    "    \n",
    "    postgres_insert_query=\"\"\"INSERT INTO employee (ID, NAME, SALARY) VALUES (%s,%s,%s)\"\"\"\n",
    "    record_to_insert=(5,'Erin', 110000)\n",
    "    cursor.execute(postgres_insert_query, record_to_insert)\n",
    "    connection.commit()\n",
    "    count=cursor.rowcount\n",
    "    print(count, \"columns inserted successfully\")\n",
    "    \n",
    "except(Exception, psycopg2.Error)as error:\n",
    "    if(connection):\n",
    "        print(\"failed to insert\",error)\n",
    "    \n",
    "finally:\n",
    "    if(connection):\n",
    "        cursor.close()\n",
    "        connection.close()\n",
    "        print(\"Connection closed\")"
   ]
  },
  {
   "cell_type": "code",
   "execution_count": null,
   "metadata": {},
   "outputs": [],
   "source": []
  },
  {
   "cell_type": "code",
   "execution_count": 9,
   "metadata": {},
   "outputs": [
    {
     "name": "stdout",
     "output_type": "stream",
     "text": [
      "from all rows\n",
      "record are:\n",
      "ID=  1\n",
      "Name=  Andy\n",
      "Salary=  100000.0 \n",
      "\n",
      "ID=  2\n",
      "Name=  Dwight\n",
      "Salary=  150000.0 \n",
      "\n",
      "ID=  3\n",
      "Name=  Jim\n",
      "Salary=  145000.0 \n",
      "\n",
      "ID=  4\n",
      "Name=  Kevin\n",
      "Salary=  120000.0 \n",
      "\n",
      "ID=  5\n",
      "Name=  Erin\n",
      "Salary=  110000.0 \n",
      "\n",
      "connection closed\n"
     ]
    }
   ],
   "source": [
    "try:\n",
    "    connection = psycopg2.connect(user=\"postgres\",\n",
    "                                 password=\"nikkitha\",\n",
    "                                 host=\"127.0.0.1\",\n",
    "                                 port=\"5432\",\n",
    "                                 database=\"testdb\")\n",
    "    cursor=connection.cursor()\n",
    "    \n",
    "    postgres_select_query= \"select * from employee\"\n",
    "    cursor.execute(postgres_select_query)\n",
    "    print(\"from all rows\")\n",
    "    mobile_records=cursor.fetchall()\n",
    "    print(\"record are:\")\n",
    "    for row in mobile_records:\n",
    "        print(\"ID= \",row[0])\n",
    "        print(\"Name= \", row[1])\n",
    "        print(\"Salary= \",row[2],\"\\n\")\n",
    "        \n",
    "\n",
    "except (Exception, psycopg2.Error) as error:\n",
    "    print(\"error while fetching data\", error)\n",
    "    \n",
    "finally:\n",
    "    if(connection):\n",
    "        cursor.close()\n",
    "        connection.close()\n",
    "        print(\"connection closed\")"
   ]
  },
  {
   "cell_type": "code",
   "execution_count": null,
   "metadata": {},
   "outputs": [],
   "source": []
  },
  {
   "cell_type": "code",
   "execution_count": 10,
   "metadata": {},
   "outputs": [
    {
     "name": "stdout",
     "output_type": "stream",
     "text": [
      "ID=  2\n",
      "Name=  Dwight\n",
      "Salary=  150000.0 \n",
      "\n",
      "connection closed\n",
      "\n",
      "\n",
      "ID=  3\n",
      "Name=  Jim\n",
      "Salary=  145000.0 \n",
      "\n",
      "connection closed\n",
      "\n",
      "\n"
     ]
    }
   ],
   "source": [
    "import psycopg2\n",
    "\n",
    "\n",
    "def getEmployeeDetails(empID):\n",
    "    \n",
    "    try:\n",
    "        connection = psycopg2.connect(user=\"postgres\",\n",
    "                                     password=\"nikkitha\",\n",
    "                                     host=\"127.0.0.1\",\n",
    "                                     port=\"5432\",\n",
    "                                     database=\"testdb\")\n",
    "        cursor=connection.cursor()\n",
    "    \n",
    "        postgres_select_query= \"select * from employee where id = %s\"\n",
    "        cursor.execute(postgres_select_query,(empID, ))\n",
    "        #print(\"from all rows\")\n",
    "        employee_records=cursor.fetchall()\n",
    "        #print(\"record are:\")\n",
    "        for row in employee_records:\n",
    "            print(\"ID= \",row[0])\n",
    "            print(\"Name= \", row[1])\n",
    "            print(\"Salary= \",row[2],\"\\n\")\n",
    "        \n",
    "\n",
    "    except (Exception, psycopg2.Error) as error:\n",
    "        print(\"error while fetching data\", error)\n",
    "    \n",
    "    finally:\n",
    "        if(connection):\n",
    "            cursor.close()\n",
    "            connection.close()\n",
    "            print(\"connection closed\\n\\n\")\n",
    "            \n",
    "getEmployeeDetails(2)\n",
    "getEmployeeDetails(3)"
   ]
  },
  {
   "cell_type": "code",
   "execution_count": null,
   "metadata": {},
   "outputs": [],
   "source": []
  },
  {
   "cell_type": "code",
   "execution_count": 12,
   "metadata": {},
   "outputs": [
    {
     "name": "stdout",
     "output_type": "stream",
     "text": [
      "Before updating: \n",
      "(4, 'Kevin', 120000.0)\n",
      "1 updated successfully\n",
      "After updating: \n",
      "(4, 'Oscar', 120000.0)\n",
      "Connection closed\n"
     ]
    }
   ],
   "source": [
    "import psycopg2\n",
    "\n",
    "\n",
    "def updateTable(empId, name):\n",
    "    \n",
    "    try:\n",
    "        connection = psycopg2.connect(user=\"postgres\",\n",
    "                                     password=\"nikkitha\",\n",
    "                                     host=\"127.0.0.1\",\n",
    "                                     port=\"5432\",\n",
    "                                     database=\"testdb\")\n",
    "        cursor=connection.cursor()\n",
    "        \n",
    "        print(\"Before updating: \")\n",
    "        sql_selected_query = \"\"\"select * from employee where id=%s\"\"\"\n",
    "        cursor.execute(sql_selected_query, (empId, ))\n",
    "        record=cursor.fetchone()\n",
    "        print(record)\n",
    "        \n",
    "        #update single record\n",
    "        sql_update_query=\"\"\"Update employee set name=%s where id=%s\"\"\"\n",
    "        cursor.execute(sql_update_query,(name,empId))\n",
    "        connection.commit()\n",
    "        count=cursor.rowcount\n",
    "        print(count, \"updated successfully\")\n",
    "        \n",
    "        print(\"After updating: \")\n",
    "        sql_selected_query=\"\"\"select * from employee where id=%s\"\"\"\n",
    "        cursor.execute(sql_selected_query, (empId, ))\n",
    "        record=cursor.fetchone()\n",
    "        print(record)\n",
    "        \n",
    "        \n",
    "    except (Exception, psycopg2.Error) as error:\n",
    "        print(\"Error in update: \",error)\n",
    "    \n",
    "    \n",
    "    finally:\n",
    "        #closing db connection\n",
    "        if(connection):\n",
    "            cursor.close()\n",
    "            connection.close()\n",
    "            print(\"Connection closed\")\n",
    "            \n",
    "\n",
    "id=4\n",
    "name=\"Oscar\"\n",
    "updateTable(id, name)"
   ]
  },
  {
   "cell_type": "code",
   "execution_count": null,
   "metadata": {},
   "outputs": [],
   "source": []
  },
  {
   "cell_type": "code",
   "execution_count": 13,
   "metadata": {},
   "outputs": [
    {
     "name": "stdout",
     "output_type": "stream",
     "text": [
      "1 Deleted successfully\n",
      "Connection closed\n"
     ]
    }
   ],
   "source": [
    "import psycopg2\n",
    "\n",
    "\n",
    "def deleteData(empId):\n",
    "    \n",
    "    try:\n",
    "        connection = psycopg2.connect(user=\"postgres\",\n",
    "                                     password=\"nikkitha\",\n",
    "                                     host=\"127.0.0.1\",\n",
    "                                     port=\"5432\",\n",
    "                                     database=\"testdb\")\n",
    "        cursor=connection.cursor()\n",
    "        \n",
    "        #update single record\n",
    "        sql_delete_query=\"\"\"delete from employee where id=%s\"\"\"\n",
    "        cursor.execute(sql_delete_query, (empId,))\n",
    "        connection.commit()\n",
    "        count=cursor.rowcount\n",
    "        print(count,\"Deleted successfully\")\n",
    "        \n",
    "    \n",
    "    except(Exception, psycopg2.Error) as error:\n",
    "        print(\"Error in deleting: \", error)\n",
    "        \n",
    "    finally:\n",
    "        #closing db connection\n",
    "        if(connection):\n",
    "            cursor.close()\n",
    "            connection.close()\n",
    "            print(\"Connection closed\")\n",
    "            \n",
    "            \n",
    "id=3\n",
    "deleteData(id)"
   ]
  },
  {
   "cell_type": "code",
   "execution_count": null,
   "metadata": {},
   "outputs": [],
   "source": []
  }
 ],
 "metadata": {
  "kernelspec": {
   "display_name": "Python 3",
   "language": "python",
   "name": "python3"
  },
  "language_info": {
   "codemirror_mode": {
    "name": "ipython",
    "version": 3
   },
   "file_extension": ".py",
   "mimetype": "text/x-python",
   "name": "python",
   "nbconvert_exporter": "python",
   "pygments_lexer": "ipython3",
   "version": "3.7.3"
  }
 },
 "nbformat": 4,
 "nbformat_minor": 2
}
